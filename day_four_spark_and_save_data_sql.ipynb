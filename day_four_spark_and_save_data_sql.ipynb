{
 "cells": [
  {
   "cell_type": "code",
   "execution_count": 18,
   "id": "e1c42175",
   "metadata": {},
   "outputs": [
    {
     "name": "stderr",
     "output_type": "stream",
     "text": [
      "INFO:__main__:SparkSession stopped successfully.\n"
     ]
    },
    {
     "name": "stdout",
     "output_type": "stream",
     "text": [
      "+--------------+-----+\n",
      "|       Country|count|\n",
      "+--------------+-----+\n",
      "| United States|    4|\n",
      "|        Canada|    2|\n",
      "|United Kingdom|    1|\n",
      "+--------------+-----+\n",
      "\n"
     ]
    }
   ],
   "source": [
    "from pyspark.sql import SparkSession\n",
    "import sys\n",
    "import logging\n",
    "\n",
    "# Configure logging\n",
    "logging.basicConfig(level=logging.INFO)\n",
    "logger = logging.getLogger(__name__)\n",
    "\n",
    "def process_survey_data(spark, input_path):\n",
    "    try:\n",
    "        # Read CSV data\n",
    "        surveyDF = spark.read \\\n",
    "            .option(\"header\", \"true\") \\\n",
    "            .option(\"inferSchema\", \"true\") \\\n",
    "            .csv(input_path)\n",
    "\n",
    "        # Create a temporary view\n",
    "        surveyDF.createOrReplaceTempView(\"survey_tbl\")\n",
    "\n",
    "        # Perform SQL query\n",
    "        countDF = spark.sql(\"SELECT Country, COUNT(1) AS count FROM survey_tbl WHERE Age < 40 GROUP BY Country\")\n",
    "\n",
    "        return countDF\n",
    "\n",
    "    except Exception as e:\n",
    "        logger.error(f\"An error occurred: {str(e)}\")\n",
    "        sys.exit(1)\n",
    "\n",
    "def main():\n",
    "    try:\n",
    "        # Create a SparkSession\n",
    "        spark = SparkSession.builder \\\n",
    "            .master(\"local[3]\") \\\n",
    "            .appName(\"HelloSparkSQL\") \\\n",
    "            .getOrCreate()\n",
    "\n",
    "        # Input CSV file path\n",
    "        input_path = \"sample.csv\"\n",
    "\n",
    "        # Process survey data\n",
    "        countDF = process_survey_data(spark, input_path)\n",
    "\n",
    "        # Show result\n",
    "        countDF.show()\n",
    "\n",
    "    except Exception as e:\n",
    "        logger.error(f\"An error occurred: {str(e)}\")\n",
    "        sys.exit(1)\n",
    "\n",
    "    finally:\n",
    "        # Stop SparkSession\n",
    "        spark.stop()\n",
    "        logger.info(\"SparkSession stopped successfully.\")\n",
    "\n",
    "if __name__ == \"__main__\":\n",
    "    main()\n"
   ]
  },
  {
   "cell_type": "code",
   "execution_count": null,
   "id": "d38acac6",
   "metadata": {},
   "outputs": [],
   "source": []
  }
 ],
 "metadata": {
  "kernelspec": {
   "display_name": "Python 3 (ipykernel)",
   "language": "python",
   "name": "python3"
  },
  "language_info": {
   "codemirror_mode": {
    "name": "ipython",
    "version": 3
   },
   "file_extension": ".py",
   "mimetype": "text/x-python",
   "name": "python",
   "nbconvert_exporter": "python",
   "pygments_lexer": "ipython3",
   "version": "3.11.0"
  }
 },
 "nbformat": 4,
 "nbformat_minor": 5
}
